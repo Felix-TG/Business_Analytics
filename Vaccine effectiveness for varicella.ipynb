{
 "cells": [
  {
   "cell_type": "markdown",
   "metadata": {},
   "source": [
    "# Are varicella vaccines effective?\n",
    "\n",
    "In this notebook I analyze data that the CDC acquired with the National Inmunization Surveys (https://www.cdc.gov/vaccines/imz-managers/nis/datasets.html#2017), specifically the most recent available data, the 2019 dataset.\n",
    "\n",
    "After I ran in **R** the input statements provided in the same site, I was able to obtain the `.csv` file I'm going to use.\n",
    "\n",
    "### 1. The libraries needed are imported as well as the dataset"
   ]
  },
  {
   "cell_type": "code",
   "execution_count": 23,
   "metadata": {},
   "outputs": [],
   "source": [
    "import numpy as np\n",
    "import pandas as pd\n",
    "import scipy.stats as stats\n",
    "import matplotlib.pyplot as plt\n",
    "\n",
    "NISdata = pd.read_csv('NISPUF19.csv')"
   ]
  },
  {
   "cell_type": "code",
   "execution_count": 10,
   "metadata": {
    "scrolled": true
   },
   "outputs": [
    {
     "data": {
      "text/html": [
       "<div>\n",
       "<style scoped>\n",
       "    .dataframe tbody tr th:only-of-type {\n",
       "        vertical-align: middle;\n",
       "    }\n",
       "\n",
       "    .dataframe tbody tr th {\n",
       "        vertical-align: top;\n",
       "    }\n",
       "\n",
       "    .dataframe thead th {\n",
       "        text-align: right;\n",
       "    }\n",
       "</style>\n",
       "<table border=\"1\" class=\"dataframe\">\n",
       "  <thead>\n",
       "    <tr style=\"text-align: right;\">\n",
       "      <th></th>\n",
       "      <th>Unnamed: 0</th>\n",
       "      <th>SEQNUMC</th>\n",
       "      <th>SEQNUMHH</th>\n",
       "      <th>PDAT</th>\n",
       "      <th>PROVWT_C</th>\n",
       "      <th>PROVWT_C_TERR</th>\n",
       "      <th>RDDWT_C</th>\n",
       "      <th>RDDWT_C_TERR</th>\n",
       "      <th>STRATUM</th>\n",
       "      <th>YEAR</th>\n",
       "      <th>...</th>\n",
       "      <th>XVRCTY2</th>\n",
       "      <th>XVRCTY3</th>\n",
       "      <th>XVRCTY4</th>\n",
       "      <th>XVRCTY5</th>\n",
       "      <th>XVRCTY6</th>\n",
       "      <th>XVRCTY7</th>\n",
       "      <th>XVRCTY8</th>\n",
       "      <th>XVRCTY9</th>\n",
       "      <th>INS_STAT2_I</th>\n",
       "      <th>INS_BREAK_I</th>\n",
       "    </tr>\n",
       "  </thead>\n",
       "  <tbody>\n",
       "    <tr>\n",
       "      <th>0</th>\n",
       "      <td>1</td>\n",
       "      <td>152651</td>\n",
       "      <td>15265</td>\n",
       "      <td>1</td>\n",
       "      <td>503.793619</td>\n",
       "      <td>503.793619</td>\n",
       "      <td>106.653676</td>\n",
       "      <td>106.653676</td>\n",
       "      <td>2052</td>\n",
       "      <td>2019</td>\n",
       "      <td>...</td>\n",
       "      <td></td>\n",
       "      <td></td>\n",
       "      <td>NaN</td>\n",
       "      <td>NaN</td>\n",
       "      <td>NaN</td>\n",
       "      <td>NaN</td>\n",
       "      <td>NaN</td>\n",
       "      <td>NaN</td>\n",
       "      <td>2.0</td>\n",
       "      <td>2.0</td>\n",
       "    </tr>\n",
       "    <tr>\n",
       "      <th>1</th>\n",
       "      <td>2</td>\n",
       "      <td>12631</td>\n",
       "      <td>1263</td>\n",
       "      <td>2</td>\n",
       "      <td>NaN</td>\n",
       "      <td>NaN</td>\n",
       "      <td>291.636945</td>\n",
       "      <td>291.636945</td>\n",
       "      <td>2038</td>\n",
       "      <td>2019</td>\n",
       "      <td>...</td>\n",
       "      <td></td>\n",
       "      <td></td>\n",
       "      <td>NaN</td>\n",
       "      <td>NaN</td>\n",
       "      <td>NaN</td>\n",
       "      <td>NaN</td>\n",
       "      <td>NaN</td>\n",
       "      <td>NaN</td>\n",
       "      <td>NaN</td>\n",
       "      <td>NaN</td>\n",
       "    </tr>\n",
       "    <tr>\n",
       "      <th>2</th>\n",
       "      <td>3</td>\n",
       "      <td>261061</td>\n",
       "      <td>26106</td>\n",
       "      <td>1</td>\n",
       "      <td>66.147188</td>\n",
       "      <td>66.147188</td>\n",
       "      <td>66.147188</td>\n",
       "      <td>66.147188</td>\n",
       "      <td>2044</td>\n",
       "      <td>2019</td>\n",
       "      <td>...</td>\n",
       "      <td></td>\n",
       "      <td></td>\n",
       "      <td>NaN</td>\n",
       "      <td>NaN</td>\n",
       "      <td>NaN</td>\n",
       "      <td>NaN</td>\n",
       "      <td>NaN</td>\n",
       "      <td>NaN</td>\n",
       "      <td>2.0</td>\n",
       "      <td>2.0</td>\n",
       "    </tr>\n",
       "    <tr>\n",
       "      <th>3</th>\n",
       "      <td>4</td>\n",
       "      <td>102261</td>\n",
       "      <td>10226</td>\n",
       "      <td>2</td>\n",
       "      <td>NaN</td>\n",
       "      <td>NaN</td>\n",
       "      <td>1104.531434</td>\n",
       "      <td>1104.531434</td>\n",
       "      <td>2068</td>\n",
       "      <td>2019</td>\n",
       "      <td>...</td>\n",
       "      <td></td>\n",
       "      <td></td>\n",
       "      <td>NaN</td>\n",
       "      <td>NaN</td>\n",
       "      <td>NaN</td>\n",
       "      <td>NaN</td>\n",
       "      <td>NaN</td>\n",
       "      <td>NaN</td>\n",
       "      <td>NaN</td>\n",
       "      <td>NaN</td>\n",
       "    </tr>\n",
       "    <tr>\n",
       "      <th>4</th>\n",
       "      <td>5</td>\n",
       "      <td>269631</td>\n",
       "      <td>26963</td>\n",
       "      <td>2</td>\n",
       "      <td>NaN</td>\n",
       "      <td>NaN</td>\n",
       "      <td>1301.585774</td>\n",
       "      <td>1301.585774</td>\n",
       "      <td>2022</td>\n",
       "      <td>2019</td>\n",
       "      <td>...</td>\n",
       "      <td></td>\n",
       "      <td></td>\n",
       "      <td>NaN</td>\n",
       "      <td>NaN</td>\n",
       "      <td>NaN</td>\n",
       "      <td>NaN</td>\n",
       "      <td>NaN</td>\n",
       "      <td>NaN</td>\n",
       "      <td>NaN</td>\n",
       "      <td>NaN</td>\n",
       "    </tr>\n",
       "  </tbody>\n",
       "</table>\n",
       "<p>5 rows × 455 columns</p>\n",
       "</div>"
      ],
      "text/plain": [
       "   Unnamed: 0  SEQNUMC  SEQNUMHH  PDAT    PROVWT_C  PROVWT_C_TERR  \\\n",
       "0           1   152651     15265     1  503.793619     503.793619   \n",
       "1           2    12631      1263     2         NaN            NaN   \n",
       "2           3   261061     26106     1   66.147188      66.147188   \n",
       "3           4   102261     10226     2         NaN            NaN   \n",
       "4           5   269631     26963     2         NaN            NaN   \n",
       "\n",
       "       RDDWT_C  RDDWT_C_TERR  STRATUM  YEAR  ...  XVRCTY2  XVRCTY3  XVRCTY4  \\\n",
       "0   106.653676    106.653676     2052  2019  ...                        NaN   \n",
       "1   291.636945    291.636945     2038  2019  ...                        NaN   \n",
       "2    66.147188     66.147188     2044  2019  ...                        NaN   \n",
       "3  1104.531434   1104.531434     2068  2019  ...                        NaN   \n",
       "4  1301.585774   1301.585774     2022  2019  ...                        NaN   \n",
       "\n",
       "   XVRCTY5  XVRCTY6  XVRCTY7  XVRCTY8  XVRCTY9  INS_STAT2_I  INS_BREAK_I  \n",
       "0      NaN      NaN      NaN      NaN      NaN          2.0          2.0  \n",
       "1      NaN      NaN      NaN      NaN      NaN          NaN          NaN  \n",
       "2      NaN      NaN      NaN      NaN      NaN          2.0          2.0  \n",
       "3      NaN      NaN      NaN      NaN      NaN          NaN          NaN  \n",
       "4      NaN      NaN      NaN      NaN      NaN          NaN          NaN  \n",
       "\n",
       "[5 rows x 455 columns]"
      ]
     },
     "execution_count": 10,
     "metadata": {},
     "output_type": "execute_result"
    }
   ],
   "source": [
    "NISdata.head()"
   ]
  },
  {
   "cell_type": "markdown",
   "metadata": {},
   "source": [
    "### 2. The data documentation is examined to understand the data\n",
    "\n",
    "We will be interested in the information about vaccines doses and if a child had the disease or not. In the Data user's guide we find information about the variables and their categories.\n",
    "\n",
    "\n",
    "- HAD_CPOX - did child ever have chicken pox\n",
    "    - yes, no, don't know, refused, missing\n",
    "- P_NUMVRC - total number of varicella doses"
   ]
  },
  {
   "cell_type": "markdown",
   "metadata": {},
   "source": [
    "### 3. The values taken by the columns of interest are examined"
   ]
  },
  {
   "cell_type": "code",
   "execution_count": 18,
   "metadata": {},
   "outputs": [
    {
     "data": {
      "text/plain": [
       "array([ 2,  1, 77, 99], dtype=int64)"
      ]
     },
     "execution_count": 18,
     "metadata": {},
     "output_type": "execute_result"
    }
   ],
   "source": [
    "NISdata['HAD_CPOX'].unique() # 1 = Yes, 2 = No"
   ]
  },
  {
   "cell_type": "code",
   "execution_count": 19,
   "metadata": {},
   "outputs": [
    {
     "data": {
      "text/plain": [
       "array([ 1., nan,  0.,  2.,  3.])"
      ]
     },
     "execution_count": 19,
     "metadata": {},
     "output_type": "execute_result"
    }
   ],
   "source": [
    "NISdata['P_NUMVRC'].unique()"
   ]
  },
  {
   "cell_type": "markdown",
   "metadata": {},
   "source": [
    "### 4. Data is cleaned by droping nan values and input errors"
   ]
  },
  {
   "cell_type": "code",
   "execution_count": 20,
   "metadata": {},
   "outputs": [],
   "source": [
    "CPOXandVacc = NISdata[['HAD_CPOX','P_NUMVRC']].dropna()\n",
    "CPOXandVacc = CPOXandVacc[ (CPOXandVacc['HAD_CPOX'] != 77) & (CPOXandVacc['HAD_CPOX'] != 99) ]"
   ]
  },
  {
   "cell_type": "markdown",
   "metadata": {},
   "source": [
    "### 5. Correlation and p-value calculated with scipy libray"
   ]
  },
  {
   "cell_type": "code",
   "execution_count": 21,
   "metadata": {},
   "outputs": [],
   "source": [
    "corr, pval=stats.pearsonr( CPOXandVacc['HAD_CPOX'], CPOXandVacc['P_NUMVRC'] )"
   ]
  },
  {
   "cell_type": "code",
   "execution_count": 22,
   "metadata": {},
   "outputs": [
    {
     "data": {
      "text/plain": [
       "(0.07892422900142637, 2.9395181283119037e-24)"
      ]
     },
     "execution_count": 22,
     "metadata": {},
     "output_type": "execute_result"
    }
   ],
   "source": [
    "(corr, pval)"
   ]
  },
  {
   "cell_type": "markdown",
   "metadata": {},
   "source": [
    "The positive correlation value signifies that an increase in 'HAD_POX' leads to an increase on 'P_NUMVRC', which is to say, not having varicella is correlated to being vaccinated. And a small p-value (smaller than e-18) denotes that it is highly unlikely to occur by chance."
   ]
  }
 ],
 "metadata": {
  "kernelspec": {
   "display_name": "Python 3",
   "language": "python",
   "name": "python3"
  },
  "language_info": {
   "codemirror_mode": {
    "name": "ipython",
    "version": 3
   },
   "file_extension": ".py",
   "mimetype": "text/x-python",
   "name": "python",
   "nbconvert_exporter": "python",
   "pygments_lexer": "ipython3",
   "version": "3.7.3"
  }
 },
 "nbformat": 4,
 "nbformat_minor": 2
}
